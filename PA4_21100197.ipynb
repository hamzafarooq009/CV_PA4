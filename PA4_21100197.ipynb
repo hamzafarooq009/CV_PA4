{
  "nbformat": 4,
  "nbformat_minor": 0,
  "metadata": {
    "colab": {
      "name": "PA4_21100197.ipynb",
      "provenance": [],
      "collapsed_sections": []
    },
    "kernelspec": {
      "name": "python3",
      "display_name": "Python 3"
    },
    "accelerator": "GPU"
  },
  "cells": [
    {
      "cell_type": "markdown",
      "metadata": {
        "id": "PYubDSiwGQAh",
        "colab_type": "text"
      },
      "source": [
        "# CS 436 CS5310 - Computer Vision - Assignment#4 - Part#1\n",
        "\n",
        "*__Submission Instructions:__*\n",
        "- Rename this notebook to `PA4_rollnumber.ipynb` before submission on LMS.\n",
        "- Code for all the tasks must be written in this notebook (you do not need to submit any other files).\n",
        "- The output of all cells must be present in the version of the notebook you submit.\n",
        "- The university honor code should be maintained. Any violation, if found, will result in disciplinary action."
      ]
    },
    {
      "cell_type": "code",
      "metadata": {
        "id": "UUlVZWsoGULv",
        "colab_type": "code",
        "colab": {}
      },
      "source": [
        "#Executed on Colab\n",
        "#Import all the required libraries\n",
        "import keras\n",
        "from keras.datasets import fashion_mnist\n",
        "from keras.layers import Activation, Input, Embedding, LSTM, Dense, Lambda, GaussianNoise, concatenate\n",
        "from keras.models import Model\n",
        "import numpy as np\n",
        "from keras.utils import np_utils\n",
        "from keras.layers.core import Dense, Dropout, Activation\n",
        "from keras import backend as K\n",
        "from keras.models import Sequential\n",
        "from keras.layers import Dense\n",
        "from sklearn.model_selection import train_test_split\n",
        "from keras.optimizers import SGD, Adam, RMSprop\n",
        "from keras.constraints import max_norm\n",
        "from keras.layers import MaxPooling2D, Dropout, Dense, Flatten, Activation, Conv2D, GlobalAveragePooling2D\n",
        "from keras.models import Sequential\n",
        "from keras.losses import categorical_crossentropy as logloss\n",
        "from keras.metrics import categorical_accuracy\n",
        "from keras.applications import vgg16\n",
        "import matplotlib.pyplot as plt\n",
        "from sklearn.metrics import mean_squared_error\n",
        "from matplotlib import offsetbox\n",
        "import cv2\n",
        "%matplotlib inline\n",
        "import matplotlib.pyplot as plt\n",
        "plt.style.use('seaborn')\n",
        "import seaborn as sn\n",
        "from sklearn.metrics import confusion_matrix\n",
        "import tensorflow as tf"
      ],
      "execution_count": 0,
      "outputs": []
    },
    {
      "cell_type": "markdown",
      "metadata": {
        "id": "4YNoEeQiGdGi",
        "colab_type": "text"
      },
      "source": [
        "## Overview\n",
        "\n",
        "In this assignment you will be exploring a few important concepts used in the deep learning projects:\n",
        "- Training image classification algorithms using Deep Learning\n",
        "- Dataset Analyses \n",
        "- Testing deep learning classifier with the test data\n",
        "- Fine-tuning / Transfer Learning\n",
        "\n",
        "We will be using the Fashion MNIST dataset that is provided by Keras. You will also be working with pretrained models, which can be downloaded from keras applications. You are **highly** encouraged to explore the images in dataset and model architectures in order to get the most out of this assignment. \n",
        "\n",
        "**_Dataset:_**\n",
        "Fashion-MNIST is a dataset of  article images from a e-commerce website named zalando with 70,000 images of size (28x28x1) each belonging to one of the 10 classes.\n",
        "\n",
        "**_Pretrained Models:_** \n",
        "Can be found [here](https://keras.io/applications/#applications)"
      ]
    },
    {
      "cell_type": "markdown",
      "metadata": {
        "id": "1dSvdXobGlZy",
        "colab_type": "text"
      },
      "source": [
        "## Task 1: Data Preparation for transfer learning\n",
        "\n",
        "To prepare your data:\n",
        "- Download the Fashion MNIST dataset\n",
        "- Split it into train, validation, and test sets\n",
        "- Convert the labels into categorical one hot encoded labels\n",
        "- Cast the images as float and normalize the values between zero and one\n",
        "- The Fashion MNIST dataset contains images of shape (28,28,1), the mimumm (height,width,channels) required by our pretrained model(in this case vgg-16) is (32,32,3)\n",
        "- Convert the images in the datset to shape (32,32,3)"
      ]
    },
    {
      "cell_type": "code",
      "metadata": {
        "id": "t3SNrR8VGaCP",
        "colab_type": "code",
        "colab": {}
      },
      "source": [
        "nb_classes = 10\n",
        "#Download Fashion MNIST dataset(Done for you)\n",
        "(X_Train, y_Train), (X_test, y_test) = fashion_mnist.load_data()\n",
        "\n",
        "#Split the fashion MNIST dataset into train, validation and test sets (Done for you)\n",
        "X_train, X_val, y_train, y_val = train_test_split(X_Train, y_Train, test_size=0.20)\n",
        "\n",
        "#Convert y_train,y_val and y_test to categorical binary values \n",
        "\n",
        "#ML and DL models in Keral, input & output in numerics(use on hot encoding)\n",
        "y_train = np_utils.to_categorical(y_train, nb_classes) \n",
        "y_val = np_utils.to_categorical(y_val, nb_classes)\n",
        "y_test = np_utils.to_categorical(y_test, nb_classes)\n",
        "\n",
        "#Hint\n",
        "#See function \"np_utils.to_categorical()\""
      ],
      "execution_count": 0,
      "outputs": []
    },
    {
      "cell_type": "code",
      "metadata": {
        "id": "_Lc7sFV0HAK5",
        "colab_type": "code",
        "colab": {}
      },
      "source": [
        "#Reshape your dataset to batch_size, width, height, #channels(Done for you)\n",
        "X_train = X_train.reshape(48000, 28, 28, 1)\n",
        "X_val = X_val.reshape(12000, 28, 28, 1)\n",
        "X_test = X_test.reshape(10000, 28, 28, 1)\n",
        "\n",
        "#Convert your dataset to float type\n",
        "#TO DO\n",
        "X_train = X_train.astype('float32')\n",
        "X_val = X_val.astype('float32')\n",
        "X_test = X_test.astype('float32')\n",
        "\n",
        "#Normalize the values\n",
        "#TO DO\n",
        "X_train = X_train/255.0\n",
        "X_val = X_val/255.0\n",
        "X_test = X_test/255.0"
      ],
      "execution_count": 0,
      "outputs": []
    },
    {
      "cell_type": "code",
      "metadata": {
        "id": "_3SnJ0dRHO_f",
        "colab_type": "code",
        "outputId": "158d9a7e-8ffd-4c14-e17a-c295c60a2ef9",
        "colab": {
          "base_uri": "https://localhost:8080/",
          "height": 51
        }
      },
      "source": [
        "#Preprocess the data for our pretrained model(requires 3 channels) and a mimimum height and width of 32.\n",
        "#Convert all images to shape (32,32,3)\n",
        "X_train_new=[]\n",
        "X_val_new=[]\n",
        "\n",
        "\n",
        "for i in range (len(X_train)):\n",
        "  img1 = cv2.cvtColor(X_train[i], cv2.COLOR_GRAY2RGB)\n",
        "  img1 = cv2.resize(img1, (32, 32))\n",
        "  X_train_new.append(img1)\n",
        "X_train_new = np.array(X_train_new)\n",
        "  \n",
        "#TO DO\n",
        "\n",
        "print(X_val.shape)\n",
        "for i in range (len(X_val)):\n",
        "  img2 = cv2.cvtColor(X_val[i], cv2.COLOR_GRAY2RGB)\n",
        "  img2 = cv2.resize(img2, (32, 32))\n",
        "  X_val_new.append(img2)\n",
        "X_val_new = np.array(X_val_new)\n",
        "print(X_val_new.shape)"
      ],
      "execution_count": 0,
      "outputs": [
        {
          "output_type": "stream",
          "text": [
            "(12000, 28, 28, 1)\n",
            "(12000, 32, 32, 3)\n"
          ],
          "name": "stdout"
        }
      ]
    },
    {
      "cell_type": "code",
      "metadata": {
        "id": "daOrE-w3Hd_P",
        "colab_type": "code",
        "colab": {}
      },
      "source": [
        "def add_new_last_layer(base_model, nb_classes):\n",
        "    \"\"\"Add last layer to the convnet\n",
        "    Args:\n",
        "    base_model: keras model excluding top layer\n",
        "    nb_classes: number of classes\n",
        "    Returns:\n",
        "    new keras model with last fully connected layer\n",
        "    \"\"\"\n",
        "    FC_SIZE=1024\n",
        "    x = base_model.output\n",
        "    x = GlobalAveragePooling2D()(x)\n",
        "    x = Dense(FC_SIZE, activation='relu')(x) \n",
        "    predictions = Dense(nb_classes, activation='softmax')(x) \n",
        "    model = Model(input=base_model.input, output=predictions)\n",
        "    return model"
      ],
      "execution_count": 0,
      "outputs": []
    },
    {
      "cell_type": "markdown",
      "metadata": {
        "id": "XAg5AHSrHuPa",
        "colab_type": "text"
      },
      "source": [
        "## Task 2: Transfer Learning\n",
        "\n",
        "Next you will employ Transfer Learning and finetune the pretrained vgg-16 model to better fit the Fashion MNIST data for 10 classes. You will:\n",
        "\n",
        "- Change the number of nodes in the last FC layer according to the number of classes i.e. 10 \n",
        "- Freeze everything except the FC layers and train it using the train split of our dataset (using appropriate hyperparameters), validating the network for validation split of data.\n",
        "- Plot loss/accuracy vs epochs curves for your simulation\n",
        "\n"
      ]
    },
    {
      "cell_type": "code",
      "metadata": {
        "id": "sQJIzOqCHvUG",
        "colab_type": "code",
        "colab": {}
      },
      "source": [
        "#Load the keras base model excluding the top layer\n",
        "#TO DO\n",
        "#Hint\n",
        "base_model=vgg16.VGG16(weights='imagenet', include_top=False)"
      ],
      "execution_count": 0,
      "outputs": []
    },
    {
      "cell_type": "code",
      "metadata": {
        "id": "ZB0WCgrSH-PU",
        "colab_type": "code",
        "outputId": "9189710b-1bb4-4e2a-9209-68236469b67f",
        "colab": {
          "base_uri": "https://localhost:8080/",
          "height": 955
        }
      },
      "source": [
        "#Since we will be using the pretrained weights for the image net dataset we will freeze all layers of our base model(Done for you)\n",
        "for layer in base_model.layers:\n",
        "    layer.trainable = False\n",
        "#We will now add a new last layer according to the number of classes in our dataset using the \"add_new_last_layer()\" function provided to you\n",
        "#TO DO\n",
        "#Hint\n",
        "vgg_imagenet_new=add_new_last_layer(base_model,nb_classes)\n",
        "\n",
        "#Print Model Summary(Done for you)\n",
        "vgg_imagenet_new.summary()"
      ],
      "execution_count": 0,
      "outputs": [
        {
          "output_type": "stream",
          "text": [
            "Model: \"model_2\"\n",
            "_________________________________________________________________\n",
            "Layer (type)                 Output Shape              Param #   \n",
            "=================================================================\n",
            "input_2 (InputLayer)         (None, None, None, 3)     0         \n",
            "_________________________________________________________________\n",
            "block1_conv1 (Conv2D)        (None, None, None, 64)    1792      \n",
            "_________________________________________________________________\n",
            "block1_conv2 (Conv2D)        (None, None, None, 64)    36928     \n",
            "_________________________________________________________________\n",
            "block1_pool (MaxPooling2D)   (None, None, None, 64)    0         \n",
            "_________________________________________________________________\n",
            "block2_conv1 (Conv2D)        (None, None, None, 128)   73856     \n",
            "_________________________________________________________________\n",
            "block2_conv2 (Conv2D)        (None, None, None, 128)   147584    \n",
            "_________________________________________________________________\n",
            "block2_pool (MaxPooling2D)   (None, None, None, 128)   0         \n",
            "_________________________________________________________________\n",
            "block3_conv1 (Conv2D)        (None, None, None, 256)   295168    \n",
            "_________________________________________________________________\n",
            "block3_conv2 (Conv2D)        (None, None, None, 256)   590080    \n",
            "_________________________________________________________________\n",
            "block3_conv3 (Conv2D)        (None, None, None, 256)   590080    \n",
            "_________________________________________________________________\n",
            "block3_pool (MaxPooling2D)   (None, None, None, 256)   0         \n",
            "_________________________________________________________________\n",
            "block4_conv1 (Conv2D)        (None, None, None, 512)   1180160   \n",
            "_________________________________________________________________\n",
            "block4_conv2 (Conv2D)        (None, None, None, 512)   2359808   \n",
            "_________________________________________________________________\n",
            "block4_conv3 (Conv2D)        (None, None, None, 512)   2359808   \n",
            "_________________________________________________________________\n",
            "block4_pool (MaxPooling2D)   (None, None, None, 512)   0         \n",
            "_________________________________________________________________\n",
            "block5_conv1 (Conv2D)        (None, None, None, 512)   2359808   \n",
            "_________________________________________________________________\n",
            "block5_conv2 (Conv2D)        (None, None, None, 512)   2359808   \n",
            "_________________________________________________________________\n",
            "block5_conv3 (Conv2D)        (None, None, None, 512)   2359808   \n",
            "_________________________________________________________________\n",
            "block5_pool (MaxPooling2D)   (None, None, None, 512)   0         \n",
            "_________________________________________________________________\n",
            "global_average_pooling2d_2 ( (None, 512)               0         \n",
            "_________________________________________________________________\n",
            "dense_3 (Dense)              (None, 1024)              525312    \n",
            "_________________________________________________________________\n",
            "dense_4 (Dense)              (None, 10)                10250     \n",
            "=================================================================\n",
            "Total params: 15,250,250\n",
            "Trainable params: 535,562\n",
            "Non-trainable params: 14,714,688\n",
            "_________________________________________________________________\n"
          ],
          "name": "stdout"
        },
        {
          "output_type": "stream",
          "text": [
            "/usr/local/lib/python3.6/dist-packages/ipykernel_launcher.py:14: UserWarning: Update your `Model` call to the Keras 2 API: `Model(inputs=Tensor(\"in..., outputs=Tensor(\"de...)`\n",
            "  \n"
          ],
          "name": "stderr"
        }
      ]
    },
    {
      "cell_type": "code",
      "metadata": {
        "id": "8N0pekdtJndS",
        "colab_type": "code",
        "colab": {}
      },
      "source": [
        "#Intialize Optimizer for our model(Done for you). You can try using different optimizers with different values\n",
        "adam=Adam(lr=1e-3, beta_1=0.9, beta_2=0.999, epsilon=1e-08)\n",
        "#Compile Model\n",
        "#TO DO\n",
        "#Hint\n",
        "\n",
        "vgg_imagenet_new.compile(optimizer=adam,loss=logloss, metrics=['accuracy'])"
      ],
      "execution_count": 0,
      "outputs": []
    },
    {
      "cell_type": "code",
      "metadata": {
        "id": "BkIIzVeeKJbf",
        "colab_type": "code",
        "outputId": "bfcacb8a-9bc8-4a05-a075-b36d942b1c23",
        "colab": {
          "base_uri": "https://localhost:8080/",
          "height": 714
        }
      },
      "source": [
        "#Train the vgg-16 model\n",
        "epochs = 20\n",
        "batch_size = 65\n",
        "#TO DO\n",
        "history=vgg_imagenet_new.fit(X_train_new,y_train,validation_data=(X_val_new,y_val),batch_size = batch_size,epochs = epochs)\n",
        "#The history variable will be used later to plot accuracy and loss curves"
      ],
      "execution_count": 0,
      "outputs": [
        {
          "output_type": "stream",
          "text": [
            "Train on 48000 samples, validate on 12000 samples\n",
            "Epoch 1/20\n",
            "48000/48000 [==============================] - 9s 187us/step - loss: 0.5314 - accuracy: 0.8087 - val_loss: 0.4354 - val_accuracy: 0.8425\n",
            "Epoch 2/20\n",
            "48000/48000 [==============================] - 9s 186us/step - loss: 0.4019 - accuracy: 0.8507 - val_loss: 0.4044 - val_accuracy: 0.8488\n",
            "Epoch 3/20\n",
            "48000/48000 [==============================] - 9s 185us/step - loss: 0.3681 - accuracy: 0.8623 - val_loss: 0.3635 - val_accuracy: 0.8664\n",
            "Epoch 4/20\n",
            "48000/48000 [==============================] - 9s 184us/step - loss: 0.3410 - accuracy: 0.8722 - val_loss: 0.3612 - val_accuracy: 0.8673\n",
            "Epoch 5/20\n",
            "48000/48000 [==============================] - 9s 184us/step - loss: 0.3198 - accuracy: 0.8801 - val_loss: 0.3526 - val_accuracy: 0.8717\n",
            "Epoch 6/20\n",
            "48000/48000 [==============================] - 9s 184us/step - loss: 0.3043 - accuracy: 0.8857 - val_loss: 0.3640 - val_accuracy: 0.8682\n",
            "Epoch 7/20\n",
            "48000/48000 [==============================] - 9s 185us/step - loss: 0.2876 - accuracy: 0.8919 - val_loss: 0.3428 - val_accuracy: 0.8760\n",
            "Epoch 8/20\n",
            "48000/48000 [==============================] - 9s 185us/step - loss: 0.2751 - accuracy: 0.8966 - val_loss: 0.3347 - val_accuracy: 0.8809\n",
            "Epoch 9/20\n",
            "48000/48000 [==============================] - 9s 185us/step - loss: 0.2612 - accuracy: 0.9014 - val_loss: 0.3500 - val_accuracy: 0.8770\n",
            "Epoch 10/20\n",
            "48000/48000 [==============================] - 9s 185us/step - loss: 0.2528 - accuracy: 0.9047 - val_loss: 0.3491 - val_accuracy: 0.8723\n",
            "Epoch 11/20\n",
            "48000/48000 [==============================] - 9s 187us/step - loss: 0.2385 - accuracy: 0.9099 - val_loss: 0.3426 - val_accuracy: 0.8790\n",
            "Epoch 12/20\n",
            "48000/48000 [==============================] - 9s 185us/step - loss: 0.2289 - accuracy: 0.9141 - val_loss: 0.3534 - val_accuracy: 0.8767\n",
            "Epoch 13/20\n",
            "48000/48000 [==============================] - 9s 185us/step - loss: 0.2172 - accuracy: 0.9163 - val_loss: 0.3386 - val_accuracy: 0.8829\n",
            "Epoch 14/20\n",
            "48000/48000 [==============================] - 9s 185us/step - loss: 0.2061 - accuracy: 0.9219 - val_loss: 0.3459 - val_accuracy: 0.8825\n",
            "Epoch 15/20\n",
            "48000/48000 [==============================] - 9s 186us/step - loss: 0.1984 - accuracy: 0.9258 - val_loss: 0.3462 - val_accuracy: 0.8827\n",
            "Epoch 16/20\n",
            "48000/48000 [==============================] - 9s 185us/step - loss: 0.1890 - accuracy: 0.9287 - val_loss: 0.3504 - val_accuracy: 0.8847\n",
            "Epoch 17/20\n",
            "48000/48000 [==============================] - 9s 185us/step - loss: 0.1802 - accuracy: 0.9310 - val_loss: 0.3592 - val_accuracy: 0.8829\n",
            "Epoch 18/20\n",
            "48000/48000 [==============================] - 9s 186us/step - loss: 0.1707 - accuracy: 0.9351 - val_loss: 0.3670 - val_accuracy: 0.8827\n",
            "Epoch 19/20\n",
            "48000/48000 [==============================] - 9s 187us/step - loss: 0.1655 - accuracy: 0.9375 - val_loss: 0.3625 - val_accuracy: 0.8848\n",
            "Epoch 20/20\n",
            "48000/48000 [==============================] - 9s 186us/step - loss: 0.1562 - accuracy: 0.9418 - val_loss: 0.3753 - val_accuracy: 0.8833\n"
          ],
          "name": "stdout"
        }
      ]
    },
    {
      "cell_type": "code",
      "metadata": {
        "id": "CtG-N7iDKjAF",
        "colab_type": "code",
        "colab": {}
      },
      "source": [
        "  #Lets test our transfer learned model on the test set\n",
        "#Preprocess the test data just like we did before i.e convert all images to shape (32,32,3)\n",
        "X_test_new=[]\n",
        "\n",
        "for i in range (len(X_test)):\n",
        "  img1 = cv2.cvtColor(X_test[i], cv2.COLOR_GRAY2RGB)\n",
        "  img1 = cv2.resize(img1, (32, 32))\n",
        "  X_test_new.append(img1)\n",
        "X_test_new = np.array(X_test_new)\n",
        "  "
      ],
      "execution_count": 0,
      "outputs": []
    },
    {
      "cell_type": "code",
      "metadata": {
        "id": "_qvuVJaALC2J",
        "colab_type": "code",
        "outputId": "bd459c5d-2f0f-4724-fcdc-cf789a966a57",
        "colab": {
          "base_uri": "https://localhost:8080/",
          "height": 51
        }
      },
      "source": [
        "#Evaluate the transfer learned model\n",
        "#TO DO\n",
        "#Hint\n",
        "vgg_imagenet_new.evaluate(X_test_new,y_test, batch_size = batch_size)\n",
        "# vgg_imagenet_new.predict(X_test_new,y_test)"
      ],
      "execution_count": 0,
      "outputs": [
        {
          "output_type": "stream",
          "text": [
            "10000/10000 [==============================] - 1s 150us/step\n"
          ],
          "name": "stdout"
        },
        {
          "output_type": "execute_result",
          "data": {
            "text/plain": [
              "[0.4169124637544155, 0.8729000091552734]"
            ]
          },
          "metadata": {
            "tags": []
          },
          "execution_count": 20
        }
      ]
    },
    {
      "cell_type": "code",
      "metadata": {
        "id": "I9jenvyLLReE",
        "colab_type": "code",
        "outputId": "cfcfc6be-c8d7-4969-d8c7-3c9cd4372a7f",
        "colab": {
          "base_uri": "https://localhost:8080/",
          "height": 376
        }
      },
      "source": [
        "#Plot training and validation accuracy curves using matplot lib\n",
        "#Hint\n",
        "#Values for training and validation accuarcy can be obtained using \n",
        "#history.history['accuracy'] and history.history['val_accuracy'] respectively\n",
        "plt.plot(np.arange(0, epochs), history.history['accuracy'], label=\"training_accuracy\")\n",
        "plt.plot(np.arange(0, epochs), history.history['val_accuracy'], label=\"validation_accuracy\")\n",
        "plt.title(\"Training Accuracy & Validation Accuracy\")\n",
        "plt.xlabel(\"Epoch\")\n",
        "plt.ylabel(\"Accuracy\")\n",
        "plt.show()\n"
      ],
      "execution_count": 0,
      "outputs": [
        {
          "output_type": "display_data",
          "data": {
            "image/png": "[encoded data removed]",
            "text/plain": [
              "<Figure size 576x396 with 1 Axes>"
            ]
          },
          "metadata": {
            "tags": []
          }
        }
      ]
    },
    {
      "cell_type": "code",
      "metadata": {
        "id": "hB3OLXYgL41Y",
        "colab_type": "code",
        "outputId": "e77f6d35-269f-452e-8189-8b5041d3bc31",
        "colab": {
          "base_uri": "https://localhost:8080/",
          "height": 376
        }
      },
      "source": [
        "#Plot training and validation loss curves using matplot lib\n",
        "#Hint\n",
        "#Values for training and validation loss can be obtained using history.history['loss'] and history.history['val_loss'] respectively\n",
        "plt.figure()\n",
        "plt.plot(np.arange(0, epochs), history.history[\"loss\"], label=\"training_loss\")\n",
        "plt.plot(np.arange(0, epochs), history.history[\"val_loss\"], label=\"validation_loss\")\n",
        "plt.title(\"Training Loss and Validation Loss\")\n",
        "plt.xlabel(\"Epoch\")\n",
        "plt.ylabel(\"Loss\")\n",
        "plt.show()"
      ],
      "execution_count": 0,
      "outputs": [
        {
          "output_type": "display_data",
          "data": {
            "image/png": "[encoded data removed]",
            "text/plain": [
              "<Figure size 576x396 with 1 Axes>"
            ]
          },
          "metadata": {
            "tags": []
          }
        }
      ]
    },
    {
      "cell_type": "markdown",
      "metadata": {
        "id": "4XATeh2MMHMe",
        "colab_type": "text"
      },
      "source": [
        "## Task 3: Network Evaluation\n",
        "\n",
        "Next you will test your finetuned model by plotting a confusion matrix between classes predicted. You will:\n",
        "\n",
        "- Test your model for images in the test set\n",
        "- Construct a multiclass confusion matrix (for 10 classes) for actual and predicted class of each image and visualize the confusion matrix as a heatmap\n",
        "\n",
        "*You can use scikit-learn's `metrics.confusion_matrix` function. Consult the relevant documentation.* "
      ]
    },
    {
      "cell_type": "code",
      "metadata": {
        "id": "F5oBJSb9MGIn",
        "colab_type": "code",
        "colab": {}
      },
      "source": [
        "confusion_matrix(y_test, y_val, labels=None, sample_weight=None, normalize=None)"
      ],
      "execution_count": 0,
      "outputs": []
    },
    {
      "cell_type": "code",
      "metadata": {
        "id": "_-Jw6ILdGOjq",
        "colab_type": "code",
        "outputId": "da382050-48e7-4d72-b476-97e8167c6945",
        "colab": {
          "base_uri": "https://localhost:8080/",
          "height": 1000
        }
      },
      "source": [
        "y_pred = vgg_imagenet_new.predict(X_test_new, batch_size) \n",
        "cm = confusion_matrix(np.argmax(y_test, axis=1), np.argmax(y_pred, axis=1), normalize='true')\n",
        "sn.heatmap(cm, annot=True)\n",
        "plt.show()\n",
        "\n",
        "y_pred = vgg_imagenet_new.predict(X_test_new[0:10], batch_size) \n",
        "pred_val = np.argmax(y_pred, axis=1)\n",
        "testVal = np.argmax(y_test[0:10], axis=1)\n",
        "labels = [\"T-shirt/top\", \"Trouser\", \"Pullover\", \"Dress\", \"Coat\", \"Sandal\", \n",
        "          \"Shirt\", \"Sneaker\", \"Bag\", \"Ankle boot\"] # Offical dataset link\n",
        "# mapping labels to predictions\n",
        "for i in range(len(pred_val)):\n",
        "  print(\"Predicted: \", pred_val[i], labels[pred_val[i]])\n",
        "  print(\"Test: \", testVal[i], labels[testVal[i]])\n",
        "  plt.imshow(X_test_new[i])\n",
        "  plt.show()"
      ],
      "execution_count": 0,
      "outputs": [
        {
          "output_type": "display_data",
          "data": {
            "image/png": "[encoded data removed]",
            "text/plain": [
              "<Figure size 576x396 with 2 Axes>"
            ]
          },
          "metadata": {
            "tags": []
          }
        },
        {
          "output_type": "stream",
          "text": [
            "\n",
            "Predicted:  9 Ankle boot\n",
            "Test:  9 Ankle boot\n"
          ],
          "name": "stdout"
        },
        {
          "output_type": "display_data",
          "data": {
            "image/png": "[encoded data removed]",
            "text/plain": [
              "<Figure size 576x396 with 1 Axes>"
            ]
          },
          "metadata": {
            "tags": []
          }
        },
        {
          "output_type": "stream",
          "text": [
            "\n",
            "Predicted:  2 Pullover\n",
            "Test:  2 Pullover\n"
          ],
          "name": "stdout"
        },
        {
          "output_type": "display_data",
          "data": {
            "image/png": "[encoded data removed]",
            "text/plain": [
              "<Figure size 576x396 with 1 Axes>"
            ]
          },
          "metadata": {
            "tags": []
          }
        },
        {
          "output_type": "stream",
          "text": [
            "\n",
            "Predicted:  1 Trouser\n",
            "Test:  1 Trouser\n"
          ],
          "name": "stdout"
        },
        {
          "output_type": "display_data",
          "data": {
            "image/png": "[encoded data removed]",
            "text/plain": [
              "<Figure size 576x396 with 1 Axes>"
            ]
          },
          "metadata": {
            "tags": []
          }
        },
        {
          "output_type": "stream",
          "text": [
            "\n",
            "Predicted:  1 Trouser\n",
            "Test:  1 Trouser\n"
          ],
          "name": "stdout"
        },
        {
          "output_type": "display_data",
          "data": {
            "image/png": "[encoded data removed]",
            "text/plain": [
              "<Figure size 576x396 with 1 Axes>"
            ]
          },
          "metadata": {
            "tags": []
          }
        },
        {
          "output_type": "stream",
          "text": [
            "\n",
            "Predicted:  6 Shirt\n",
            "Test:  6 Shirt\n"
          ],
          "name": "stdout"
        },
        {
          "output_type": "display_data",
          "data": {
            "image/png": "[encoded data removed]",
            "text/plain": [
              "<Figure size 576x396 with 1 Axes>"
            ]
          },
          "metadata": {
            "tags": []
          }
        },
        {
          "output_type": "stream",
          "text": [
            "\n",
            "Predicted:  1 Trouser\n",
            "Test:  1 Trouser\n"
          ],
          "name": "stdout"
        },
        {
          "output_type": "display_data",
          "data": {
            "image/png": "[encoded data removed]",
            "text/plain": [
              "<Figure size 576x396 with 1 Axes>"
            ]
          },
          "metadata": {
            "tags": []
          }
        },
        {
          "output_type": "stream",
          "text": [
            "\n",
            "Predicted:  0 T-shirt/top\n",
            "Test:  4 Coat\n"
          ],
          "name": "stdout"
        },
        {
          "output_type": "display_data",
          "data": {
            "image/png": "[encoded data removed]",
            "text/plain": [
              "<Figure size 576x396 with 1 Axes>"
            ]
          },
          "metadata": {
            "tags": []
          }
        },
        {
          "output_type": "stream",
          "text": [
            "\n",
            "Predicted:  6 Shirt\n",
            "Test:  6 Shirt\n"
          ],
          "name": "stdout"
        },
        {
          "output_type": "display_data",
          "data": {
            "image/png": "[encoded data removed]",
            "text/plain": [
              "<Figure size 576x396 with 1 Axes>"
            ]
          },
          "metadata": {
            "tags": []
          }
        },
        {
          "output_type": "stream",
          "text": [
            "\n",
            "Predicted:  5 Sandal\n",
            "Test:  5 Sandal\n"
          ],
          "name": "stdout"
        },
        {
          "output_type": "display_data",
          "data": {
            "image/png": "[encoded data removed]",
            "text/plain": [
              "<Figure size 576x396 with 1 Axes>"
            ]
          },
          "metadata": {
            "tags": []
          }
        },
        {
          "output_type": "stream",
          "text": [
            "\n",
            "Predicted:  7 Sneaker\n",
            "Test:  7 Sneaker\n"
          ],
          "name": "stdout"
        },
        {
          "output_type": "display_data",
          "data": {
            "image/png": "[encoded data removed]",
            "text/plain": [
              "<Figure size 576x396 with 1 Axes>"
            ]
          },
          "metadata": {
            "tags": []
          }
        }
      ]
    },
    {
      "cell_type": "code",
      "metadata": {
        "id": "-p0qTanFDI_O",
        "colab_type": "code",
        "colab": {}
      },
      "source": [
        ""
      ],
      "execution_count": 0,
      "outputs": []
    }
  ]
}